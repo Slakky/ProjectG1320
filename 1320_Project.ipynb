{
 "cells": [
  {
   "cell_type": "code",
   "execution_count": null,
   "metadata": {},
   "outputs": [],
   "source": [
    "import re\n",
    "import wget\n",
    "file = open(\"/home/ubuntu/1000genomes.sequence.index\")"
   ]
  },
  {
   "cell_type": "code",
   "execution_count": null,
   "metadata": {},
   "outputs": [],
   "source": [
    "for line in file:\n",
    "    #replace Telugu with what sample to download.\n",
    "    if \"Telugu\" in line:\n",
    "        link = re.search('ftp\\S+.gz',line).group(0)\n",
    "        wget.download(link)"
   ]
  },
  {
   "cell_type": "markdown",
   "metadata": {},
   "source": [
    "# The files are already in hdfs, keeping the above code for the record"
   ]
  },
  {
   "cell_type": "code",
   "execution_count": 6,
   "metadata": {},
   "outputs": [
    {
     "name": "stdout",
     "output_type": "stream",
     "text": [
      "Found 6 items\n",
      "-rw-r--r--   3 ubuntu supergroup      2.2 G 2019-05-24 22:45 /team13/ERR181393_1.fastq.gz\n",
      "-rw-r--r--   3 ubuntu supergroup      2.3 G 2019-05-24 22:48 /team13/ERR181393_2.fastq.gz\n",
      "-rw-r--r--   3 ubuntu supergroup      2.1 G 2019-05-24 23:36 /team13/ERR181394_1.fastq.gz\n",
      "-rw-r--r--   3 ubuntu supergroup      2.1 G 2019-05-24 23:37 /team13/ERR181394_2.fastq.gz\n",
      "-rw-r--r--   3 ubuntu supergroup      2.3 G 2019-05-24 23:57 /team13/ERR181395_1.fastq.gz\n",
      "-rw-r--r--   3 ubuntu supergroup      2.3 G 2019-05-24 23:58 /team13/ERR181395_2.fastq.gz\n",
      "\n"
     ]
    }
   ],
   "source": [
    "# ls'ing our directory in hdfs, with the size of each file\n",
    "import os\n",
    "\n",
    "#.popen is a method for calling terminal commands inside python\n",
    "f = os.popen('~/hadoop-2.7.7/bin/hdfs dfs -Dfs.defaultFS=\"hdfs://192.168.1.153:9000\" -ls -h /team13')  \n",
    "print(f.read())  "
   ]
  },
  {
   "cell_type": "markdown",
   "metadata": {},
   "source": [
    "# Spark cluster connexion and configuration"
   ]
  },
  {
   "cell_type": "code",
   "execution_count": null,
   "metadata": {},
   "outputs": [],
   "source": []
  }
 ],
 "metadata": {
  "kernelspec": {
   "display_name": "Python 3",
   "language": "python",
   "name": "python3"
  },
  "language_info": {
   "codemirror_mode": {
    "name": "ipython",
    "version": 3
   },
   "file_extension": ".py",
   "mimetype": "text/x-python",
   "name": "python",
   "nbconvert_exporter": "python",
   "pygments_lexer": "ipython3",
   "version": "3.6.7"
  }
 },
 "nbformat": 4,
 "nbformat_minor": 2
}
